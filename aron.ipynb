{
  "nbformat": 4,
  "nbformat_minor": 0,
  "metadata": {
    "colab": {
      "provenance": []
    },
    "kernelspec": {
      "name": "python3",
      "display_name": "Python 3"
    },
    "language_info": {
      "name": "python"
    }
  },
  "cells": [
    {
      "cell_type": "code",
      "execution_count": 2,
      "metadata": {
        "colab": {
          "base_uri": "https://localhost:8080/"
        },
        "id": "4kN3PVt-kFK5",
        "outputId": "266a6fab-29e8-476e-d40b-adb3d5e29a80"
      },
      "outputs": [
        {
          "output_type": "stream",
          "name": "stdout",
          "text": [
            "enter a string: aron\n",
            "ARON\n"
          ]
        }
      ],
      "source": [
        "user= input(\"enter a string: \")\n",
        "string = user.upper()\n",
        "print(string)\n"
      ]
    },
    {
      "cell_type": "code",
      "source": [
        "def factorial(n):\n",
        "  if n == 0:\n",
        "    return 1\n",
        "  else:\n",
        "    return n * factorial(n-1)\n",
        "\n",
        "num = int(input(\"enter a number: \"))\n",
        "result = factorial(num)\n",
        "print(f\"the factorial of {num} is {result}\")"
      ],
      "metadata": {
        "colab": {
          "base_uri": "https://localhost:8080/"
        },
        "id": "cl_FGR2XkhDA",
        "outputId": "d19f08dd-ba0b-4dd3-d094-7da4e5424a5f"
      },
      "execution_count": 5,
      "outputs": [
        {
          "output_type": "stream",
          "name": "stdout",
          "text": [
            "enter a number: 7\n",
            "the factorial of 7 is 5040\n"
          ]
        }
      ]
    },
    {
      "cell_type": "code",
      "source": [],
      "metadata": {
        "id": "_jnUNbXznA4J"
      },
      "execution_count": null,
      "outputs": []
    }
  ]
}